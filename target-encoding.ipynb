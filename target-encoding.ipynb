{
 "cells": [
  {
   "cell_type": "code",
   "execution_count": 1,
   "metadata": {
    "execution": {
     "iopub.execute_input": "2022-08-13T17:39:29.702565Z",
     "iopub.status.busy": "2022-08-13T17:39:29.701682Z",
     "iopub.status.idle": "2022-08-13T17:39:32.216886Z",
     "shell.execute_reply": "2022-08-13T17:39:32.215562Z",
     "shell.execute_reply.started": "2022-08-13T17:39:29.702433Z"
    }
   },
   "outputs": [],
   "source": [
    "import matplotlib.pyplot as plt\n",
    "import numpy as np\n",
    "import pandas as pd\n",
    "import seaborn as sns\n",
    "import warnings\n",
    "from category_encoders import MEstimateEncoder\n",
    "from sklearn.model_selection import cross_val_score\n",
    "from xgboost import XGBRegressor\n",
    "\n",
    "# Set Matplotlib defaults\n",
    "plt.style.use(\"seaborn-whitegrid\")\n",
    "plt.rc(\"figure\", autolayout=True)\n",
    "plt.rc(\n",
    "    \"axes\",\n",
    "    labelweight=\"bold\",\n",
    "    labelsize=\"large\",\n",
    "    titleweight=\"bold\",\n",
    "    titlesize=14,\n",
    "    titlepad=10,\n",
    ")\n",
    "warnings.filterwarnings('ignore')\n",
    "\n",
    "\n",
    "def score_dataset(X, y, model=XGBRegressor()):\n",
    "    # Label encoding for categoricals\n",
    "    for colname in X.select_dtypes([\"category\", \"object\"]):\n",
    "        X[colname], _ = X[colname].factorize()\n",
    "    # Metric for Housing competition is RMSLE (Root Mean Squared Log Error)\n",
    "    score = cross_val_score(\n",
    "        model, X, y, cv=5, scoring=\"neg_mean_squared_log_error\",\n",
    "    )\n",
    "    score = -1 * score.mean()\n",
    "    score = np.sqrt(score)\n",
    "    return score\n",
    "\n",
    "\n",
    "df = pd.read_csv(\"../input/fe-course-data/ames.csv\")"
   ]
  },
  {
   "cell_type": "code",
   "execution_count": 2,
   "metadata": {
    "execution": {
     "iopub.execute_input": "2022-08-13T17:39:43.092100Z",
     "iopub.status.busy": "2022-08-13T17:39:43.091140Z",
     "iopub.status.idle": "2022-08-13T17:39:43.137693Z",
     "shell.execute_reply": "2022-08-13T17:39:43.136438Z",
     "shell.execute_reply.started": "2022-08-13T17:39:43.092046Z"
    }
   },
   "outputs": [],
   "source": [
    "df.select_dtypes([\"object\"]).nunique()"
   ]
  },
  {
   "cell_type": "code",
   "execution_count": 3,
   "metadata": {
    "execution": {
     "iopub.execute_input": "2022-08-13T17:40:21.471813Z",
     "iopub.status.busy": "2022-08-13T17:40:21.471178Z",
     "iopub.status.idle": "2022-08-13T17:40:21.487057Z",
     "shell.execute_reply": "2022-08-13T17:40:21.485741Z",
     "shell.execute_reply.started": "2022-08-13T17:40:21.471760Z"
    }
   },
   "outputs": [],
   "source": [
    "df[\"SaleType\"].value_counts()"
   ]
  },
  {
   "cell_type": "code",
   "execution_count": 6,
   "metadata": {
    "execution": {
     "iopub.execute_input": "2022-08-13T17:41:53.780453Z",
     "iopub.status.busy": "2022-08-13T17:41:53.779955Z",
     "iopub.status.idle": "2022-08-13T17:41:53.797151Z",
     "shell.execute_reply": "2022-08-13T17:41:53.795801Z",
     "shell.execute_reply.started": "2022-08-13T17:41:53.780411Z"
    },
    "lines_to_next_cell": 2
   },
   "outputs": [],
   "source": [
    "# Encoding split\n",
    "X_encode = df.sample(frac=0.20, random_state=0)\n",
    "y_encode = X_encode.pop(\"SalePrice\")\n",
    "\n",
    "# Training split\n",
    "X_pretrain = df.drop(X_encode.index)\n",
    "y_train = X_pretrain.pop(\"SalePrice\")"
   ]
  },
  {
   "cell_type": "code",
   "execution_count": 8,
   "metadata": {
    "execution": {
     "iopub.execute_input": "2022-08-13T17:44:30.550870Z",
     "iopub.status.busy": "2022-08-13T17:44:30.550098Z",
     "iopub.status.idle": "2022-08-13T17:44:30.660001Z",
     "shell.execute_reply": "2022-08-13T17:44:30.658624Z",
     "shell.execute_reply.started": "2022-08-13T17:44:30.550813Z"
    },
    "lines_to_next_cell": 0
   },
   "outputs": [],
   "source": [
    "#Create the MEstimateEncoder\n",
    "# Choose a set of features to encode and a value for m\n",
    "encoder = MEstimateEncoder(cols=['Neighborhood'], m=1.0)\n",
    "\n",
    "\n",
    "# Fit the encoder on the encoding split\n",
    "encoder.fit(X_encode, y_encode)\n",
    "\n",
    "# Encode the training split\n",
    "X_train = encoder.transform(X_pretrain, y_train)\n",
    "\n",
    "\n"
   ]
  },
  {
   "cell_type": "code",
   "execution_count": 9,
   "metadata": {
    "execution": {
     "iopub.execute_input": "2022-08-13T17:44:37.681944Z",
     "iopub.status.busy": "2022-08-13T17:44:37.681418Z",
     "iopub.status.idle": "2022-08-13T17:44:38.088757Z",
     "shell.execute_reply": "2022-08-13T17:44:38.087242Z",
     "shell.execute_reply.started": "2022-08-13T17:44:37.681902Z"
    }
   },
   "outputs": [],
   "source": [
    "feature = encoder.cols\n",
    "\n",
    "plt.figure(dpi=90)\n",
    "ax = sns.distplot(y_train, kde=True, hist=False)\n",
    "ax = sns.distplot(X_train[feature], color='r', ax=ax, hist=True, kde=False, norm_hist=True)\n",
    "ax.set_xlabel(\"SalePrice\");"
   ]
  },
  {
   "cell_type": "code",
   "execution_count": 10,
   "metadata": {
    "execution": {
     "iopub.execute_input": "2022-08-13T17:44:42.783236Z",
     "iopub.status.busy": "2022-08-13T17:44:42.782733Z",
     "iopub.status.idle": "2022-08-13T17:44:52.921505Z",
     "shell.execute_reply": "2022-08-13T17:44:52.920138Z",
     "shell.execute_reply.started": "2022-08-13T17:44:42.783194Z"
    }
   },
   "outputs": [],
   "source": [
    "X = df.copy()\n",
    "y = X.pop(\"SalePrice\")\n",
    "score_base = score_dataset(X, y)\n",
    "score_new = score_dataset(X_train, y_train)\n",
    "\n",
    "print(f\"Baseline Score: {score_base:.4f} RMSLE\")\n",
    "print(f\"Score with Encoding: {score_new:.4f} RMSLE\")"
   ]
  },
  {
   "cell_type": "code",
   "execution_count": 13,
   "metadata": {
    "execution": {
     "iopub.execute_input": "2022-08-13T17:45:35.790939Z",
     "iopub.status.busy": "2022-08-13T17:45:35.790427Z",
     "iopub.status.idle": "2022-08-13T17:45:40.532669Z",
     "shell.execute_reply": "2022-08-13T17:45:40.531417Z",
     "shell.execute_reply.started": "2022-08-13T17:45:35.790902Z"
    }
   },
   "outputs": [],
   "source": [
    "# Try experimenting with the smoothing parameter m\n",
    "# Try 0, 1, 5, 50\n",
    "m = 5\n",
    "\n",
    "X = df.copy()\n",
    "y = X.pop('SalePrice')\n",
    "\n",
    "# Create an uninformative feature\n",
    "X[\"Count\"] = range(len(X))\n",
    "X[\"Count\"][1] = 0  # actually need one duplicate value to circumvent error-checking in MEstimateEncoder\n",
    "\n",
    "# fit and transform on the same dataset\n",
    "encoder = MEstimateEncoder(cols=\"Count\", m=m)\n",
    "X = encoder.fit_transform(X, y)\n",
    "\n",
    "# Results\n",
    "score =  score_dataset(X, y)\n",
    "print(f\"Score: {score:.4f} RMSLE\")"
   ]
  },
  {
   "cell_type": "code",
   "execution_count": 14,
   "metadata": {
    "execution": {
     "iopub.execute_input": "2022-08-13T17:45:45.790409Z",
     "iopub.status.busy": "2022-08-13T17:45:45.789912Z",
     "iopub.status.idle": "2022-08-13T17:45:46.164440Z",
     "shell.execute_reply": "2022-08-13T17:45:46.163174Z",
     "shell.execute_reply.started": "2022-08-13T17:45:45.790364Z"
    }
   },
   "outputs": [],
   "source": [
    "plt.figure(dpi=90)\n",
    "ax = sns.distplot(y, kde=True, hist=False)\n",
    "ax = sns.distplot(X[\"Count\"], color='r', ax=ax, hist=True, kde=False, norm_hist=True)\n",
    "ax.set_xlabel(\"SalePrice\");"
   ]
  }
 ],
 "metadata": {
  "jupytext": {
   "cell_metadata_filter": "-all",
   "formats": "ipynb"
  },
  "kernelspec": {
   "display_name": "Python 3 (ipykernel)",
   "language": "python",
   "name": "python3"
  },
  "language_info": {
   "codemirror_mode": {
    "name": "ipython",
    "version": 3
   },
   "file_extension": ".py",
   "mimetype": "text/x-python",
   "name": "python",
   "nbconvert_exporter": "python",
   "pygments_lexer": "ipython3",
   "version": "3.10.0"
  }
 },
 "nbformat": 4,
 "nbformat_minor": 4
}
