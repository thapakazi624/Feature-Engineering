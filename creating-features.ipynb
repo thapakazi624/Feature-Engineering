{
 "cells": [
  {
   "cell_type": "code",
   "execution_count": 5,
   "metadata": {
    "execution": {
     "iopub.execute_input": "2022-08-13T15:38:13.193845Z",
     "iopub.status.busy": "2022-08-13T15:38:13.193444Z",
     "iopub.status.idle": "2022-08-13T15:38:13.246482Z",
     "shell.execute_reply": "2022-08-13T15:38:13.245300Z",
     "shell.execute_reply.started": "2022-08-13T15:38:13.193811Z"
    }
   },
   "outputs": [],
   "source": [
    "# Setup feedback system\n",
    "from learntools.core import binder\n",
    "binder.bind(globals())\n",
    "from learntools.feature_engineering_new.ex3 import *\n",
    "\n",
    "import numpy as np\n",
    "import pandas as pd\n",
    "from sklearn.model_selection import cross_val_score\n",
    "from xgboost import XGBRegressor\n",
    "\n",
    "\n",
    "def score_dataset(X, y, model=XGBRegressor()):\n",
    "    # Label encoding for categoricals\n",
    "    for colname in X.select_dtypes([\"category\", \"object\"]):\n",
    "        X[colname], _ = X[colname].factorize()\n",
    "    # Metric for Housing competition is RMSLE (Root Mean Squared Log Error)\n",
    "    score = cross_val_score(\n",
    "        model, X, y, cv=5, scoring=\"neg_mean_squared_log_error\",\n",
    "    )\n",
    "    score = -1 * score.mean()\n",
    "    score = np.sqrt(score)\n",
    "    return score\n",
    "\n",
    "\n",
    "# Prepare data\n",
    "df = pd.read_csv(\"../input/fe-course-data/ames.csv\")\n",
    "X = df.copy()\n",
    "y = X.pop(\"SalePrice\")"
   ]
  },
  {
   "cell_type": "code",
   "execution_count": 11,
   "metadata": {
    "execution": {
     "iopub.execute_input": "2022-08-13T15:40:48.282899Z",
     "iopub.status.busy": "2022-08-13T15:40:48.282488Z",
     "iopub.status.idle": "2022-08-13T15:40:48.308031Z",
     "shell.execute_reply": "2022-08-13T15:40:48.307302Z",
     "shell.execute_reply.started": "2022-08-13T15:40:48.282864Z"
    },
    "lines_to_next_cell": 0
   },
   "outputs": [],
   "source": [
    "# YOUR CODE HERE\n",
    "X_1 = pd.DataFrame()  # dataframe to hold new features\n",
    "\n",
    "X_1[\"LivLotRatio\"] = df.GrLivArea / df.LotArea\n",
    "X_1[\"Spaciousness\"] = (df.FirstFlrSF + df.SecondFlrSF) / df.TotRmsAbvGrd\n",
    "X_1[\"TotalOutsideSF\"] = df.WoodDeckSF + df.OpenPorchSF + df.EnclosedPorch + df.Threeseasonporch + df.ScreenPorch\n",
    "\n",
    "\n",
    "\n"
   ]
  },
  {
   "cell_type": "code",
   "execution_count": 13,
   "metadata": {
    "execution": {
     "iopub.execute_input": "2022-08-13T15:42:28.323654Z",
     "iopub.status.busy": "2022-08-13T15:42:28.323276Z",
     "iopub.status.idle": "2022-08-13T15:42:28.339815Z",
     "shell.execute_reply": "2022-08-13T15:42:28.338675Z",
     "shell.execute_reply.started": "2022-08-13T15:42:28.323623Z"
    },
    "lines_to_next_cell": 0
   },
   "outputs": [],
   "source": [
    "\n",
    "# One-hot encode BldgType. Use `prefix=\"Bldg\"` in `get_dummies`\n",
    "X_2 = pd.get_dummies(df.BldgType, prefix = 'Bldg') \n",
    "# Multiply\n",
    "X_2 = X_2.mul(df.GrLivArea, axis =0)\n",
    "\n"
   ]
  },
  {
   "cell_type": "code",
   "execution_count": 16,
   "metadata": {
    "execution": {
     "iopub.execute_input": "2022-08-13T15:43:37.817790Z",
     "iopub.status.busy": "2022-08-13T15:43:37.817401Z",
     "iopub.status.idle": "2022-08-13T15:43:37.839477Z",
     "shell.execute_reply": "2022-08-13T15:43:37.838564Z",
     "shell.execute_reply.started": "2022-08-13T15:43:37.817761Z"
    },
    "lines_to_next_cell": 0
   },
   "outputs": [],
   "source": [
    "X_3 = pd.DataFrame()\n",
    "\n",
    "# YOUR CODE HERE\n",
    "X_3[\"PorchTypes\"] = df[[\n",
    "    \"WoodDeckSF\",\n",
    "    \"OpenPorchSF\",\n",
    "    \"EnclosedPorch\",\n",
    "    \"Threeseasonporch\",\n",
    "    \"ScreenPorch\",\n",
    "]].gt(0.0).sum(axis=1)\n",
    "\n"
   ]
  },
  {
   "cell_type": "code",
   "execution_count": 17,
   "metadata": {
    "execution": {
     "iopub.execute_input": "2022-08-13T15:43:44.860890Z",
     "iopub.status.busy": "2022-08-13T15:43:44.860482Z",
     "iopub.status.idle": "2022-08-13T15:43:44.868752Z",
     "shell.execute_reply": "2022-08-13T15:43:44.867918Z",
     "shell.execute_reply.started": "2022-08-13T15:43:44.860855Z"
    }
   },
   "outputs": [],
   "source": [
    "df.MSSubClass.unique()"
   ]
  },
  {
   "cell_type": "code",
   "execution_count": 19,
   "metadata": {
    "execution": {
     "iopub.execute_input": "2022-08-13T15:45:13.183768Z",
     "iopub.status.busy": "2022-08-13T15:45:13.183342Z",
     "iopub.status.idle": "2022-08-13T15:45:13.209436Z",
     "shell.execute_reply": "2022-08-13T15:45:13.208213Z",
     "shell.execute_reply.started": "2022-08-13T15:45:13.183737Z"
    },
    "lines_to_next_cell": 0
   },
   "outputs": [],
   "source": [
    "X_4 = pd.DataFrame()\n",
    "\n",
    "# YOUR CODE HERE\n",
    "X_4['MSClass']=df.MSSubClass.str.split(\"_\", n=1, expand=True)[0]\n",
    "\n"
   ]
  },
  {
   "cell_type": "code",
   "execution_count": 21,
   "metadata": {
    "execution": {
     "iopub.execute_input": "2022-08-13T15:46:28.643442Z",
     "iopub.status.busy": "2022-08-13T15:46:28.643017Z",
     "iopub.status.idle": "2022-08-13T15:46:28.664873Z",
     "shell.execute_reply": "2022-08-13T15:46:28.663500Z",
     "shell.execute_reply.started": "2022-08-13T15:46:28.643409Z"
    },
    "lines_to_next_cell": 0
   },
   "outputs": [],
   "source": [
    "X_5 = pd.DataFrame()\n",
    "\n",
    "# YOUR CODE HERE\n",
    "X_5[\"MedNhbdArea\"] = df.groupby(\"Neighborhood\")['GrLivArea'].transform('median')\n"
   ]
  },
  {
   "cell_type": "code",
   "execution_count": 22,
   "metadata": {
    "execution": {
     "iopub.execute_input": "2022-08-13T15:46:41.210767Z",
     "iopub.status.busy": "2022-08-13T15:46:41.210379Z",
     "iopub.status.idle": "2022-08-13T15:46:46.075759Z",
     "shell.execute_reply": "2022-08-13T15:46:46.074774Z",
     "shell.execute_reply.started": "2022-08-13T15:46:41.210737Z"
    }
   },
   "outputs": [],
   "source": [
    "X_new = X.join([X_1, X_2, X_3, X_4, X_5])\n",
    "score_dataset(X_new, y)"
   ]
  }
 ],
 "metadata": {
  "jupytext": {
   "cell_metadata_filter": "-all",
   "formats": "ipynb"
  },
  "kernelspec": {
   "display_name": "Python 3 (ipykernel)",
   "language": "python",
   "name": "python3"
  },
  "language_info": {
   "codemirror_mode": {
    "name": "ipython",
    "version": 3
   },
   "file_extension": ".py",
   "mimetype": "text/x-python",
   "name": "python",
   "nbconvert_exporter": "python",
   "pygments_lexer": "ipython3",
   "version": "3.10.0"
  }
 },
 "nbformat": 4,
 "nbformat_minor": 4
}
