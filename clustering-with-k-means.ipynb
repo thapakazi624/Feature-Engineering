{
 "cells": [
  {
   "cell_type": "code",
   "execution_count": 2,
   "metadata": {
    "execution": {
     "iopub.execute_input": "2022-08-13T16:55:23.028444Z",
     "iopub.status.busy": "2022-08-13T16:55:23.028017Z",
     "iopub.status.idle": "2022-08-13T16:55:23.084431Z",
     "shell.execute_reply": "2022-08-13T16:55:23.083304Z",
     "shell.execute_reply.started": "2022-08-13T16:55:23.028410Z"
    }
   },
   "outputs": [],
   "source": [
    "import matplotlib.pyplot as plt\n",
    "import numpy as np\n",
    "import pandas as pd\n",
    "import seaborn as sns\n",
    "from sklearn.cluster import KMeans\n",
    "from sklearn.model_selection import cross_val_score\n",
    "from xgboost import XGBRegressor\n",
    "\n",
    "# Set Matplotlib defaults\n",
    "plt.style.use(\"seaborn-whitegrid\")\n",
    "plt.rc(\"figure\", autolayout=True)\n",
    "plt.rc(\n",
    "    \"axes\",\n",
    "    labelweight=\"bold\",\n",
    "    labelsize=\"large\",\n",
    "    titleweight=\"bold\",\n",
    "    titlesize=14,\n",
    "    titlepad=10,\n",
    ")\n",
    "\n",
    "\n",
    "def score_dataset(X, y, model=XGBRegressor()):\n",
    "    # Label encoding for categoricals\n",
    "    for colname in X.select_dtypes([\"category\", \"object\"]):\n",
    "        X[colname], _ = X[colname].factorize()\n",
    "    # Metric for Housing competition is RMSLE (Root Mean Squared Log Error)\n",
    "    score = cross_val_score(\n",
    "        model, X, y, cv=5, scoring=\"neg_mean_squared_log_error\",\n",
    "    )\n",
    "    score = -1 * score.mean()\n",
    "    score = np.sqrt(score)\n",
    "    return score\n",
    "\n",
    "\n",
    "# Prepare data\n",
    "df = pd.read_csv(\"../input/fe-course-data/ames.csv\")"
   ]
  },
  {
   "cell_type": "code",
   "execution_count": 9,
   "metadata": {
    "execution": {
     "iopub.execute_input": "2022-08-13T16:58:27.596315Z",
     "iopub.status.busy": "2022-08-13T16:58:27.595016Z",
     "iopub.status.idle": "2022-08-13T16:58:30.375015Z",
     "shell.execute_reply": "2022-08-13T16:58:30.373864Z",
     "shell.execute_reply.started": "2022-08-13T16:58:27.596247Z"
    },
    "lines_to_next_cell": 0
   },
   "outputs": [],
   "source": [
    "X = df.copy()\n",
    "y = X.pop(\"SalePrice\")\n",
    "\n",
    "\n",
    "# Define a list of the features to be used for the clustering\n",
    "features = [\"LotArea\", \"TotalBsmtSF\", \"FirstFlrSF\", \"SecondFlrSF\",\"GrLivArea\"]\n",
    "\n",
    "\n",
    "# Standardize\n",
    "X_scaled = X.loc[:, features]\n",
    "X_scaled = (X_scaled - X_scaled.mean(axis=0)) / X_scaled.std(axis=0)\n",
    "\n",
    "\n",
    "#Fit the KMeans model to X_scaled and create the cluster labels\n",
    "kmeans = KMeans(n_clusters=10, n_init=10, random_state=0)\n",
    "X[\"Cluster\"] = kmeans.fit_predict(X_scaled)\n",
    "\n",
    "\n"
   ]
  },
  {
   "cell_type": "code",
   "execution_count": 10,
   "metadata": {
    "execution": {
     "iopub.execute_input": "2022-08-13T16:58:50.590950Z",
     "iopub.status.busy": "2022-08-13T16:58:50.590482Z",
     "iopub.status.idle": "2022-08-13T16:58:53.258340Z",
     "shell.execute_reply": "2022-08-13T16:58:53.257087Z",
     "shell.execute_reply.started": "2022-08-13T16:58:50.590910Z"
    }
   },
   "outputs": [],
   "source": [
    "Xy = X.copy()\n",
    "Xy[\"Cluster\"] = Xy.Cluster.astype(\"category\")\n",
    "Xy[\"SalePrice\"] = y\n",
    "sns.relplot(\n",
    "    x=\"value\", y=\"SalePrice\", hue=\"Cluster\", col=\"variable\",\n",
    "    height=4, aspect=1, facet_kws={'sharex': False}, col_wrap=3,\n",
    "    data=Xy.melt(\n",
    "        value_vars=features, id_vars=[\"SalePrice\", \"Cluster\"],\n",
    "    ),\n",
    ");\n"
   ]
  },
  {
   "cell_type": "code",
   "execution_count": 11,
   "metadata": {
    "execution": {
     "iopub.execute_input": "2022-08-13T16:59:06.035391Z",
     "iopub.status.busy": "2022-08-13T16:59:06.034900Z",
     "iopub.status.idle": "2022-08-13T16:59:11.492403Z",
     "shell.execute_reply": "2022-08-13T16:59:11.491182Z",
     "shell.execute_reply.started": "2022-08-13T16:59:06.035353Z"
    }
   },
   "outputs": [],
   "source": [
    "score_dataset(X, y)"
   ]
  },
  {
   "cell_type": "code",
   "execution_count": 13,
   "metadata": {
    "execution": {
     "iopub.execute_input": "2022-08-13T17:00:37.512048Z",
     "iopub.status.busy": "2022-08-13T17:00:37.511571Z",
     "iopub.status.idle": "2022-08-13T17:00:40.946847Z",
     "shell.execute_reply": "2022-08-13T17:00:40.945627Z",
     "shell.execute_reply.started": "2022-08-13T17:00:37.512013Z"
    },
    "lines_to_next_cell": 0
   },
   "outputs": [],
   "source": [
    "kmeans = KMeans(n_clusters=10, n_init=10, random_state=0)\n",
    "\n",
    "\n",
    "# Create the cluster-distance features using `fit_transform`\n",
    "X_cd = kmeans.fit_transform(X_scaled)\n",
    "\n",
    "\n",
    "# Label features and join to dataset\n",
    "X_cd = pd.DataFrame(X_cd, columns=[f\"Centroid_{i}\" for i in range(X_cd.shape[1])])\n",
    "X = X.join(X_cd)\n",
    "\n",
    "\n",
    "\n"
   ]
  },
  {
   "cell_type": "code",
   "execution_count": 14,
   "metadata": {
    "execution": {
     "iopub.execute_input": "2022-08-13T17:00:45.954857Z",
     "iopub.status.busy": "2022-08-13T17:00:45.954327Z",
     "iopub.status.idle": "2022-08-13T17:00:51.623343Z",
     "shell.execute_reply": "2022-08-13T17:00:51.622137Z",
     "shell.execute_reply.started": "2022-08-13T17:00:45.954817Z"
    }
   },
   "outputs": [],
   "source": [
    "score_dataset(X, y)"
   ]
  }
 ],
 "metadata": {
  "jupytext": {
   "cell_metadata_filter": "-all",
   "formats": "ipynb"
  },
  "kernelspec": {
   "display_name": "Python 3 (ipykernel)",
   "language": "python",
   "name": "python3"
  },
  "language_info": {
   "codemirror_mode": {
    "name": "ipython",
    "version": 3
   },
   "file_extension": ".py",
   "mimetype": "text/x-python",
   "name": "python",
   "nbconvert_exporter": "python",
   "pygments_lexer": "ipython3",
   "version": "3.10.0"
  }
 },
 "nbformat": 4,
 "nbformat_minor": 4
}
